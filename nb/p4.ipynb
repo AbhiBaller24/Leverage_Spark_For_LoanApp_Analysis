{
 "cells": [
  {
   "cell_type": "code",
   "execution_count": 1,
   "id": "555299d7-25f4-4783-b732-cd69bdb04411",
   "metadata": {},
   "outputs": [],
   "source": [
    "import os\n",
    "import zipfile\n",
    "from pyspark.sql import SparkSession\n",
    "from pyspark.sql.functions import col, expr, row_number, lower, regexp_replace, lpad, rpad, concat, rank\n",
    "from pyspark.sql.window import Window\n",
    "import pandas as pd\n",
    "import time\n",
    "import matplotlib.pyplot as plt\n",
    "import requests"
   ]
  },
  {
   "cell_type": "markdown",
   "id": "cc5b9619-413d-47e2-94ab-0f6dd11907bf",
   "metadata": {},
   "source": [
    "## Downloading zip files"
   ]
  },
  {
   "cell_type": "code",
   "execution_count": 2,
   "id": "db171b88-81c5-45bc-b289-c4f08064026e",
   "metadata": {},
   "outputs": [
    {
     "name": "stdout",
     "output_type": "stream",
     "text": [
      "--2023-04-03 13:34:39--  https://pages.cs.wisc.edu/~harter/cs639/data/hdma-wi-2021.zip\n",
      "Resolving pages.cs.wisc.edu (pages.cs.wisc.edu)... 128.105.7.9\n",
      "Connecting to pages.cs.wisc.edu (pages.cs.wisc.edu)|128.105.7.9|:443... connected.\n",
      "HTTP request sent, awaiting response... 200 OK\n",
      "Length: 21494278 (20M) [application/zip]\n",
      "Saving to: ‘hdma-wi-2021.zip’\n",
      "\n",
      "hdma-wi-2021.zip    100%[===================>]  20.50M  15.3MB/s    in 1.3s    \n",
      "\n",
      "2023-04-03 13:34:41 (15.3 MB/s) - ‘hdma-wi-2021.zip’ saved [21494278/21494278]\n",
      "\n"
     ]
    }
   ],
   "source": [
    "! wget https://pages.cs.wisc.edu/~harter/cs639/data/hdma-wi-2021.zip"
   ]
  },
  {
   "cell_type": "code",
   "execution_count": 3,
   "id": "468cc11b-c42a-499c-90cd-744566cd0259",
   "metadata": {},
   "outputs": [
    {
     "name": "stdout",
     "output_type": "stream",
     "text": [
      "--2023-04-03 13:34:41--  https://pages.cs.wisc.edu/~harter/cs639/data/arid2017_to_lei_xref_csv.zip\n",
      "Resolving pages.cs.wisc.edu (pages.cs.wisc.edu)... 128.105.7.9\n",
      "Connecting to pages.cs.wisc.edu (pages.cs.wisc.edu)|128.105.7.9|:443... connected.\n",
      "HTTP request sent, awaiting response... 200 OK\n",
      "Length: 144804 (141K) [application/zip]\n",
      "Saving to: ‘arid2017_to_lei_xref_csv.zip’\n",
      "\n",
      "arid2017_to_lei_xre 100%[===================>] 141.41K  --.-KB/s    in 0.07s   \n",
      "\n",
      "2023-04-03 13:34:41 (1.88 MB/s) - ‘arid2017_to_lei_xref_csv.zip’ saved [144804/144804]\n",
      "\n"
     ]
    }
   ],
   "source": [
    "! wget https://pages.cs.wisc.edu/~harter/cs639/data/arid2017_to_lei_xref_csv.zip"
   ]
  },
  {
   "cell_type": "code",
   "execution_count": 4,
   "id": "12130bad-212d-456a-9476-2b6929e45d8c",
   "metadata": {},
   "outputs": [
    {
     "name": "stdout",
     "output_type": "stream",
     "text": [
      "--2023-04-03 13:34:41--  https://pages.cs.wisc.edu/~harter/cs639/data/code_sheets.zip\n",
      "Resolving pages.cs.wisc.edu (pages.cs.wisc.edu)... 128.105.7.9\n",
      "Connecting to pages.cs.wisc.edu (pages.cs.wisc.edu)|128.105.7.9|:443... connected.\n",
      "HTTP request sent, awaiting response... 200 OK\n",
      "Length: 798030 (779K) [application/zip]\n",
      "Saving to: ‘code_sheets.zip’\n",
      "\n",
      "code_sheets.zip     100%[===================>] 779.33K  --.-KB/s    in 0.1s    \n",
      "\n",
      "2023-04-03 13:34:42 (5.11 MB/s) - ‘code_sheets.zip’ saved [798030/798030]\n",
      "\n"
     ]
    }
   ],
   "source": [
    "! wget https://pages.cs.wisc.edu/~harter/cs639/data/code_sheets.zip"
   ]
  },
  {
   "cell_type": "code",
   "execution_count": 5,
   "id": "5aba40f9-4d51-48f6-82b9-467e01dd4734",
   "metadata": {},
   "outputs": [],
   "source": [
    "# function to list files with a certain extension like csv and zip\n",
    "def getFiles(ext, folder):\n",
    "    folder = os.listdir(folder)\n",
    "    wanted = []\n",
    "    for file in folder:\n",
    "        if file.endswith(ext):\n",
    "            wanted.append(file)\n",
    "    return wanted"
   ]
  },
  {
   "cell_type": "code",
   "execution_count": 6,
   "id": "3629179d-5886-4f8b-afe9-6d8e5cad7bea",
   "metadata": {},
   "outputs": [
    {
     "data": {
      "text/plain": [
       "['arid2017_to_lei_xref_csv.zip', 'hdma-wi-2021.zip', 'code_sheets.zip']"
      ]
     },
     "execution_count": 6,
     "metadata": {},
     "output_type": "execute_result"
    }
   ],
   "source": [
    "zips = getFiles(\"zip\", \".\")\n",
    "zips"
   ]
  },
  {
   "cell_type": "markdown",
   "id": "42e2a510-eae2-46e7-bc60-5cdca672f57a",
   "metadata": {},
   "source": [
    "## Extracting zip files"
   ]
  },
  {
   "cell_type": "code",
   "execution_count": 7,
   "id": "7c9ac6e2-5d71-4653-ab1b-db166241dd82",
   "metadata": {},
   "outputs": [],
   "source": [
    "for file in zips:\n",
    "    with zipfile.ZipFile(file, \"r\") as unzipper:\n",
    "        unzipper.extractall()"
   ]
  },
  {
   "cell_type": "markdown",
   "id": "777f92d4-5802-4ec8-82ed-47d6802fe1ca",
   "metadata": {},
   "source": [
    "## Starting Spark session and adding files"
   ]
  },
  {
   "cell_type": "code",
   "execution_count": 8,
   "id": "e4a6f16c-6609-44e3-94bc-e90e7e927f9a",
   "metadata": {},
   "outputs": [
    {
     "name": "stderr",
     "output_type": "stream",
     "text": [
      "Using Spark's default log4j profile: org/apache/spark/log4j-defaults.properties\n",
      "Setting default log level to \"WARN\".\n",
      "To adjust logging level use sc.setLogLevel(newLevel). For SparkR, use setLogLevel(newLevel).\n",
      "23/04/03 13:34:47 WARN NativeCodeLoader: Unable to load native-hadoop library for your platform... using builtin-java classes where applicable\n"
     ]
    }
   ],
   "source": [
    "spark = (SparkSession.builder.appName(\"cs544\")\n",
    "         .master(\"spark://main:7077\")\n",
    "         .config(\"spark.executor.memory\", \"512M\")\n",
    "         .config(\"spark.sql.warehouse.dir\", \"hdfs://main:9000/user/hive/warehouse\")\n",
    "         .enableHiveSupport()\n",
    "         .getOrCreate())"
   ]
  },
  {
   "cell_type": "code",
   "execution_count": 9,
   "id": "7ab57dd8-899c-42e9-b140-ae45ed25284c",
   "metadata": {},
   "outputs": [
    {
     "data": {
      "text/html": [
       "\n",
       "        <div>\n",
       "            <p><b>SparkContext</b></p>\n",
       "\n",
       "            <p><a href=\"http://16e35de752d1:4040\">Spark UI</a></p>\n",
       "\n",
       "            <dl>\n",
       "              <dt>Version</dt>\n",
       "                <dd><code>v3.2.2</code></dd>\n",
       "              <dt>Master</dt>\n",
       "                <dd><code>spark://main:7077</code></dd>\n",
       "              <dt>AppName</dt>\n",
       "                <dd><code>cs544</code></dd>\n",
       "            </dl>\n",
       "        </div>\n",
       "        "
      ],
      "text/plain": [
       "<SparkContext master=spark://main:7077 appName=cs544>"
      ]
     },
     "execution_count": 9,
     "metadata": {},
     "output_type": "execute_result"
    }
   ],
   "source": [
    "sc = spark.sparkContext\n",
    "sc"
   ]
  },
  {
   "cell_type": "markdown",
   "id": "1979dcd0-a671-4d53-a817-78da200731d0",
   "metadata": {},
   "source": [
    "### loading loans and banks to Data Warehouse"
   ]
  },
  {
   "cell_type": "code",
   "execution_count": 10,
   "id": "0ec5d754-0653-4f59-8891-a760d6915978",
   "metadata": {},
   "outputs": [],
   "source": [
    "! hdfs dfs -cp arid2017_to_lei_xref_csv.csv hdfs://main:9000/arid2017_to_lei_xref_csv.csv\n",
    "! hdfs dfs -cp hdma-wi-2021.csv hdfs://main:9000/hdma-wi-2021.csv"
   ]
  },
  {
   "cell_type": "code",
   "execution_count": 11,
   "id": "9a2fd21a-74ca-4641-be50-cb85590707e4",
   "metadata": {},
   "outputs": [
    {
     "name": "stderr",
     "output_type": "stream",
     "text": [
      "23/04/03 13:35:34 WARN HiveConf: HiveConf of name hive.stats.jdbc.timeout does not exist\n",
      "23/04/03 13:35:34 WARN HiveConf: HiveConf of name hive.stats.retries.wait does not exist\n",
      "23/04/03 13:35:39 WARN ObjectStore: Version information not found in metastore. hive.metastore.schema.verification is not enabled so recording the schema version 2.3.0\n",
      "23/04/03 13:35:39 WARN ObjectStore: setMetaStoreSchemaVersion called but recording version is disabled: version = 2.3.0, comment = Set by MetaStore UNKNOWN@172.20.0.2\n",
      "23/04/03 13:35:40 WARN ObjectStore: Failed to get database global_temp, returning NoSuchObjectException\n",
      "23/04/03 13:35:40 WARN HadoopFSUtils: The directory hdfs://main:9000/user/hive/warehouse/banks was not found. Was it deleted very recently?\n",
      "23/04/03 13:35:42 WARN FileUtils: File does not exist: hdfs://main:9000/user/hive/warehouse/banks; Force to delete it.\n",
      "23/04/03 13:35:42 ERROR FileUtils: Failed to delete hdfs://main:9000/user/hive/warehouse/banks\n",
      "23/04/03 13:35:45 WARN SessionState: METASTORE_FILTER_HOOK will be ignored, since hive.security.authorization.manager is set to instance of HiveAuthorizerFactory.\n",
      "23/04/03 13:35:45 WARN HiveConf: HiveConf of name hive.internal.ss.authz.settings.applied.marker does not exist\n",
      "23/04/03 13:35:45 WARN HiveConf: HiveConf of name hive.stats.jdbc.timeout does not exist\n",
      "23/04/03 13:35:45 WARN HiveConf: HiveConf of name hive.stats.retries.wait does not exist\n",
      "23/04/03 13:35:59 WARN HadoopFSUtils: The directory hdfs://main:9000/user/hive/warehouse/loans was not found. Was it deleted very recently?\n",
      "23/04/03 13:36:00 WARN FileUtils: File does not exist: hdfs://main:9000/user/hive/warehouse/loans; Force to delete it.\n",
      "23/04/03 13:36:00 ERROR FileUtils: Failed to delete hdfs://main:9000/user/hive/warehouse/loans\n",
      "23/04/03 13:36:00 WARN package: Truncated the string representation of a plan since it was too large. This behavior can be adjusted by setting 'spark.sql.debug.maxToStringFields'.\n",
      "                                                                                \r"
     ]
    }
   ],
   "source": [
    "(spark.read.csv(f\"hdfs://main:9000/arid2017_to_lei_xref_csv.csv\", header=True, inferSchema=True)\n",
    " .write.saveAsTable(\"banks\", mode=\"overwrite\"))\n",
    "\n",
    "\n",
    "(spark.read.csv(f\"hdfs://main:9000/hdma-wi-2021.csv\", header=True, inferSchema=True)\n",
    " .write.bucketBy(8, \"county_code\").saveAsTable(\"loans\", mode=\"overwrite\"))"
   ]
  },
  {
   "cell_type": "markdown",
   "id": "8f08a3a8-f51a-4f90-afbb-e865d89c5e05",
   "metadata": {},
   "source": [
    "### Adding the code sheet files to Data Warehouse"
   ]
  },
  {
   "cell_type": "code",
   "execution_count": 12,
   "id": "5c632f92-b49d-412d-b896-3b2941fdf67a",
   "metadata": {},
   "outputs": [
    {
     "name": "stderr",
     "output_type": "stream",
     "text": [
      "                                                                                \r"
     ]
    }
   ],
   "source": [
    "select = [\"ethnicity\", \"race\", \"sex\", \"states\", \"counties\", \"tracts\", \"action_taken\", \"denial_reason\"\n",
    "          , \"loan_type\", \"loan_purpose\", \"preapproval\", \"property_type\"]\n",
    "files = getFiles(\"csv\", \".\")\n",
    "for file in files:\n",
    "    if file[0:file.find(\".\")] in select:\n",
    "        ! hdfs dfs -cp {file} hdfs://main:9000/{file}\n",
    "        (spark.read.csv(f\"hdfs://main:9000/{file}\", header=True, inferSchema=True)\n",
    "         .createOrReplaceTempView(file[0:file.find(\".\")]))"
   ]
  },
  {
   "cell_type": "markdown",
   "id": "a087240f-fcd9-4254-b0c2-bff165097a49",
   "metadata": {},
   "source": [
    "### Q1: what tables are in our warehouse?"
   ]
  },
  {
   "cell_type": "code",
   "execution_count": 13,
   "id": "c9102363-bf65-4c77-89f9-8267f9a6d966",
   "metadata": {},
   "outputs": [
    {
     "name": "stderr",
     "output_type": "stream",
     "text": [
      "                                                                                \r"
     ]
    },
    {
     "name": "stdout",
     "output_type": "stream",
     "text": [
      "+---------+-------------+-----------+\n",
      "|namespace|    tableName|isTemporary|\n",
      "+---------+-------------+-----------+\n",
      "|  default|        banks|      false|\n",
      "|  default|        loans|      false|\n",
      "|         | action_taken|       true|\n",
      "|         |     counties|       true|\n",
      "|         |denial_reason|       true|\n",
      "|         |    ethnicity|       true|\n",
      "|         | loan_purpose|       true|\n",
      "|         |    loan_type|       true|\n",
      "|         |  preapproval|       true|\n",
      "|         |property_type|       true|\n",
      "|         |         race|       true|\n",
      "|         |          sex|       true|\n",
      "|         |       states|       true|\n",
      "|         |       tracts|       true|\n",
      "+---------+-------------+-----------+\n",
      "\n"
     ]
    }
   ],
   "source": [
    "#Q1\n",
    "spark.sql(\"SHOW TABLES\").show()"
   ]
  },
  {
   "cell_type": "code",
   "execution_count": 14,
   "id": "b44eefe3-dbb3-4625-bf74-c31028a20910",
   "metadata": {},
   "outputs": [],
   "source": [
    "#getting rid of excess files\n",
    "! rm *.csv"
   ]
  },
  {
   "cell_type": "code",
   "execution_count": 15,
   "id": "bedac598-3dd4-4692-9782-de4a50f347da",
   "metadata": {},
   "outputs": [],
   "source": [
    "! rm *.zip"
   ]
  },
  {
   "cell_type": "markdown",
   "id": "1a46363f-8e63-4aad-9db1-ba0c801f073b",
   "metadata": {},
   "source": [
    "### Q2: how many banks contain the word \"first\" in their name? Which ones contain \"second\"?"
   ]
  },
  {
   "cell_type": "code",
   "execution_count": 16,
   "id": "41d11ca8-ca49-4cb1-ae6b-52137eef68dd",
   "metadata": {},
   "outputs": [],
   "source": [
    "banks = spark.table(\"banks\")"
   ]
  },
  {
   "cell_type": "code",
   "execution_count": 17,
   "id": "3fe56aed-2316-4fc3-a4b8-a09fc0a8f333",
   "metadata": {},
   "outputs": [
    {
     "name": "stderr",
     "output_type": "stream",
     "text": [
      "                                                                                \r"
     ]
    },
    {
     "data": {
      "text/html": [
       "<div>\n",
       "<style scoped>\n",
       "    .dataframe tbody tr th:only-of-type {\n",
       "        vertical-align: middle;\n",
       "    }\n",
       "\n",
       "    .dataframe tbody tr th {\n",
       "        vertical-align: top;\n",
       "    }\n",
       "\n",
       "    .dataframe thead th {\n",
       "        text-align: right;\n",
       "    }\n",
       "</style>\n",
       "<table border=\"1\" class=\"dataframe\">\n",
       "  <thead>\n",
       "    <tr style=\"text-align: right;\">\n",
       "      <th></th>\n",
       "      <th>respondent_name</th>\n",
       "      <th>arid_2017</th>\n",
       "      <th>lei_2018</th>\n",
       "      <th>lei_2019</th>\n",
       "      <th>lei_2020</th>\n",
       "    </tr>\n",
       "  </thead>\n",
       "  <tbody>\n",
       "    <tr>\n",
       "      <th>0</th>\n",
       "      <td>First National Bank</td>\n",
       "      <td>110004</td>\n",
       "      <td>5493003EW6T31TGECO83</td>\n",
       "      <td>5493003EW6T31TGECO83</td>\n",
       "      <td>5493003EW6T31TGECO83</td>\n",
       "    </tr>\n",
       "    <tr>\n",
       "      <th>1</th>\n",
       "      <td>First Mid Bank &amp; Trust, National Association</td>\n",
       "      <td>110045</td>\n",
       "      <td>549300XOTES5TCS8T794</td>\n",
       "      <td>549300XOTES5TCS8T794</td>\n",
       "      <td>549300XOTES5TCS8T794</td>\n",
       "    </tr>\n",
       "    <tr>\n",
       "      <th>2</th>\n",
       "      <td>First Hope Bank, A National Banking Association</td>\n",
       "      <td>110118</td>\n",
       "      <td>5493003XLOX5FDT9R120</td>\n",
       "      <td>5493003XLOX5FDT9R120</td>\n",
       "      <td>5493003XLOX5FDT9R120</td>\n",
       "    </tr>\n",
       "    <tr>\n",
       "      <th>3</th>\n",
       "      <td>First National Bank of Waterloo</td>\n",
       "      <td>110180</td>\n",
       "      <td>5493002GOGIUXB84JB89</td>\n",
       "      <td>5493002GOGIUXB84JB89</td>\n",
       "      <td>5493002GOGIUXB84JB89</td>\n",
       "    </tr>\n",
       "    <tr>\n",
       "      <th>4</th>\n",
       "      <td>Cumberland Valley National Bank &amp; Trust Company</td>\n",
       "      <td>110254</td>\n",
       "      <td>549300OULGV8ZW0JV320</td>\n",
       "      <td>549300OULGV8ZW0JV320</td>\n",
       "      <td>549300OULGV8ZW0JV320</td>\n",
       "    </tr>\n",
       "    <tr>\n",
       "      <th>5</th>\n",
       "      <td>The Lyons National Bank</td>\n",
       "      <td>11027</td>\n",
       "      <td>254900Q6IHGQO7INVC79</td>\n",
       "      <td>254900Q6IHGQO7INVC79</td>\n",
       "      <td>254900Q6IHGQO7INVC79</td>\n",
       "    </tr>\n",
       "    <tr>\n",
       "      <th>6</th>\n",
       "      <td>Midstates Bank, National Association</td>\n",
       "      <td>110354</td>\n",
       "      <td>2549002IXACRD1HE6A92</td>\n",
       "      <td>2549002IXACRD1HE6A92</td>\n",
       "      <td>2549002IXACRD1HE6A92</td>\n",
       "    </tr>\n",
       "    <tr>\n",
       "      <th>7</th>\n",
       "      <td>First National Bank of North Arkansas</td>\n",
       "      <td>110406</td>\n",
       "      <td>5493000LJB0L73TDJT41</td>\n",
       "      <td>5493000LJB0L73TDJT41</td>\n",
       "      <td>5493000LJB0L73TDJT41</td>\n",
       "    </tr>\n",
       "    <tr>\n",
       "      <th>8</th>\n",
       "      <td>First National Bank, Ames, Iowa</td>\n",
       "      <td>110408</td>\n",
       "      <td>549300OIJZOV6CPR1Y57</td>\n",
       "      <td>549300OIJZOV6CPR1Y57</td>\n",
       "      <td>549300OIJZOV6CPR1Y57</td>\n",
       "    </tr>\n",
       "    <tr>\n",
       "      <th>9</th>\n",
       "      <td>Texas Gulf Bank, National Association</td>\n",
       "      <td>110420</td>\n",
       "      <td>54930031J0Z4IG9PQZ65</td>\n",
       "      <td>54930031J0Z4IG9PQZ65</td>\n",
       "      <td>None</td>\n",
       "    </tr>\n",
       "  </tbody>\n",
       "</table>\n",
       "</div>"
      ],
      "text/plain": [
       "                                   respondent_name arid_2017  \\\n",
       "0                              First National Bank    110004   \n",
       "1     First Mid Bank & Trust, National Association    110045   \n",
       "2  First Hope Bank, A National Banking Association    110118   \n",
       "3                  First National Bank of Waterloo    110180   \n",
       "4  Cumberland Valley National Bank & Trust Company    110254   \n",
       "5                          The Lyons National Bank     11027   \n",
       "6             Midstates Bank, National Association    110354   \n",
       "7            First National Bank of North Arkansas    110406   \n",
       "8                  First National Bank, Ames, Iowa    110408   \n",
       "9            Texas Gulf Bank, National Association    110420   \n",
       "\n",
       "               lei_2018              lei_2019              lei_2020  \n",
       "0  5493003EW6T31TGECO83  5493003EW6T31TGECO83  5493003EW6T31TGECO83  \n",
       "1  549300XOTES5TCS8T794  549300XOTES5TCS8T794  549300XOTES5TCS8T794  \n",
       "2  5493003XLOX5FDT9R120  5493003XLOX5FDT9R120  5493003XLOX5FDT9R120  \n",
       "3  5493002GOGIUXB84JB89  5493002GOGIUXB84JB89  5493002GOGIUXB84JB89  \n",
       "4  549300OULGV8ZW0JV320  549300OULGV8ZW0JV320  549300OULGV8ZW0JV320  \n",
       "5  254900Q6IHGQO7INVC79  254900Q6IHGQO7INVC79  254900Q6IHGQO7INVC79  \n",
       "6  2549002IXACRD1HE6A92  2549002IXACRD1HE6A92  2549002IXACRD1HE6A92  \n",
       "7  5493000LJB0L73TDJT41  5493000LJB0L73TDJT41  5493000LJB0L73TDJT41  \n",
       "8  549300OIJZOV6CPR1Y57  549300OIJZOV6CPR1Y57  549300OIJZOV6CPR1Y57  \n",
       "9  54930031J0Z4IG9PQZ65  54930031J0Z4IG9PQZ65                  None  "
      ]
     },
     "execution_count": 17,
     "metadata": {},
     "output_type": "execute_result"
    }
   ],
   "source": [
    "banks.limit(10).toPandas()"
   ]
  },
  {
   "cell_type": "markdown",
   "id": "e7db85f2-4127-4597-9dd6-076b99303804",
   "metadata": {},
   "source": [
    "#### banks with first in their name"
   ]
  },
  {
   "cell_type": "code",
   "execution_count": 18,
   "id": "1ff7451f-6db2-46f3-9b67-301619c686af",
   "metadata": {},
   "outputs": [
    {
     "name": "stderr",
     "output_type": "stream",
     "text": [
      "                                                                                \r"
     ]
    },
    {
     "data": {
      "text/plain": [
       "525"
      ]
     },
     "execution_count": 18,
     "metadata": {},
     "output_type": "execute_result"
    }
   ],
   "source": [
    "#Q2\n",
    "#part1\n",
    "banks.where(lower(col('respondent_name')).contains(\"first\")).count()"
   ]
  },
  {
   "cell_type": "code",
   "execution_count": 19,
   "id": "8336c4aa-5d99-4a08-8199-09b5ab7f3a8a",
   "metadata": {},
   "outputs": [
    {
     "name": "stderr",
     "output_type": "stream",
     "text": [
      "                                                                                \r"
     ]
    },
    {
     "data": {
      "text/html": [
       "<div>\n",
       "<style scoped>\n",
       "    .dataframe tbody tr th:only-of-type {\n",
       "        vertical-align: middle;\n",
       "    }\n",
       "\n",
       "    .dataframe tbody tr th {\n",
       "        vertical-align: top;\n",
       "    }\n",
       "\n",
       "    .dataframe thead th {\n",
       "        text-align: right;\n",
       "    }\n",
       "</style>\n",
       "<table border=\"1\" class=\"dataframe\">\n",
       "  <thead>\n",
       "    <tr style=\"text-align: right;\">\n",
       "      <th></th>\n",
       "      <th>Banks With Second</th>\n",
       "    </tr>\n",
       "  </thead>\n",
       "  <tbody>\n",
       "    <tr>\n",
       "      <th>0</th>\n",
       "      <td>Old Second National Bank</td>\n",
       "    </tr>\n",
       "  </tbody>\n",
       "</table>\n",
       "</div>"
      ],
      "text/plain": [
       "          Banks With Second\n",
       "0  Old Second National Bank"
      ]
     },
     "execution_count": 19,
     "metadata": {},
     "output_type": "execute_result"
    }
   ],
   "source": [
    "#Q2\n",
    "#part2\n",
    "(banks.select(col('respondent_name').alias(\"Banks With Second\"))\n",
    " .where(lower(col(\"Banks With Second\")).contains(\"second\"))).toPandas()"
   ]
  },
  {
   "cell_type": "markdown",
   "id": "66e2e555-33be-4e4e-96d1-72044cf7b674",
   "metadata": {},
   "source": [
    "### Q3: how many loan applications has your \"favorite\" bank received in the dataset?"
   ]
  },
  {
   "cell_type": "markdown",
   "id": "9ba43569-c2ec-4186-8083-5d2d2d3f5299",
   "metadata": {},
   "source": [
    "Our favorite bank is Associated Bank"
   ]
  },
  {
   "cell_type": "code",
   "execution_count": 21,
   "id": "987ad86d-3ac3-4f60-8ba2-cbcfb1b42c27",
   "metadata": {},
   "outputs": [],
   "source": [
    "loans = spark.table(\"loans\")"
   ]
  },
  {
   "cell_type": "markdown",
   "id": "2c5af5f8-4895-4ee4-a713-5e3f6523c5e8",
   "metadata": {},
   "source": [
    "Checking to see if my favorite bank is in the dataset "
   ]
  },
  {
   "cell_type": "code",
   "execution_count": 22,
   "id": "980703be-416d-41d5-8fed-28a0a2f6aea8",
   "metadata": {},
   "outputs": [
    {
     "name": "stderr",
     "output_type": "stream",
     "text": [
      "                                                                                \r"
     ]
    },
    {
     "data": {
      "text/plain": [
       "15024"
      ]
     },
     "execution_count": 22,
     "metadata": {},
     "output_type": "execute_result"
    }
   ],
   "source": [
    "#Q3\n",
    "results = (banks\n",
    " .join(loans, on= banks[\"lei_2020\"] == loans[\"lei\"], how=\"INNER\")\n",
    " .filter(banks[\"respondent_name\"] == \"Associated Bank, National Association\")\n",
    " )\n",
    "\n",
    "results.count()"
   ]
  },
  {
   "cell_type": "markdown",
   "id": "8f902d32-4d0d-448e-871c-1ec77dd421fd",
   "metadata": {},
   "source": [
    "### Q4: what does results.explain(\"formatted\") tell us about Spark's query plan for Q3?"
   ]
  },
  {
   "cell_type": "code",
   "execution_count": 23,
   "id": "94f9b4db-09c6-4850-a9c2-14d8cfd5d0a1",
   "metadata": {},
   "outputs": [
    {
     "name": "stdout",
     "output_type": "stream",
     "text": [
      "== Physical Plan ==\n",
      "AdaptiveSparkPlan (7)\n",
      "+- BroadcastHashJoin Inner BuildLeft (6)\n",
      "   :- BroadcastExchange (3)\n",
      "   :  +- Filter (2)\n",
      "   :     +- Scan parquet default.banks (1)\n",
      "   +- Filter (5)\n",
      "      +- Scan parquet default.loans (4)\n",
      "\n",
      "\n",
      "(1) Scan parquet default.banks\n",
      "Output [5]: [respondent_name#947, arid_2017#948, lei_2018#949, lei_2019#950, lei_2020#951]\n",
      "Batched: true\n",
      "Location: InMemoryFileIndex [hdfs://main:9000/user/hive/warehouse/banks]\n",
      "PushedFilters: [IsNotNull(respondent_name), EqualTo(respondent_name,Associated Bank, National Association), IsNotNull(lei_2020)]\n",
      "ReadSchema: struct<respondent_name:string,arid_2017:string,lei_2018:string,lei_2019:string,lei_2020:string>\n",
      "\n",
      "(2) Filter\n",
      "Input [5]: [respondent_name#947, arid_2017#948, lei_2018#949, lei_2019#950, lei_2020#951]\n",
      "Condition : ((isnotnull(respondent_name#947) AND (respondent_name#947 = Associated Bank, National Association)) AND isnotnull(lei_2020#951))\n",
      "\n",
      "(3) BroadcastExchange\n",
      "Input [5]: [respondent_name#947, arid_2017#948, lei_2018#949, lei_2019#950, lei_2020#951]\n",
      "Arguments: HashedRelationBroadcastMode(List(input[4, string, false]),false), [plan_id=576]\n",
      "\n",
      "(4) Scan parquet default.loans\n",
      "Output [99]: [activity_year#969, lei#970, derived_msa-md#971, state_code#972, county_code#973, census_tract#974, conforming_loan_limit#975, derived_loan_product_type#976, derived_dwelling_category#977, derived_ethnicity#978, derived_race#979, derived_sex#980, action_taken#981, purchaser_type#982, preapproval#983, loan_type#984, loan_purpose#985, lien_status#986, reverse_mortgage#987, open-end_line_of_credit#988, business_or_commercial_purpose#989, loan_amount#990, loan_to_value_ratio#991, interest_rate#992, rate_spread#993, hoepa_status#994, total_loan_costs#995, total_points_and_fees#996, origination_charges#997, discount_points#998, lender_credits#999, loan_term#1000, prepayment_penalty_term#1001, intro_rate_period#1002, negative_amortization#1003, interest_only_payment#1004, balloon_payment#1005, other_nonamortizing_features#1006, property_value#1007, construction_method#1008, occupancy_type#1009, manufactured_home_secured_property_type#1010, manufactured_home_land_property_interest#1011, total_units#1012, multifamily_affordable_units#1013, income#1014, debt_to_income_ratio#1015, applicant_credit_score_type#1016, co-applicant_credit_score_type#1017, applicant_ethnicity-1#1018, applicant_ethnicity-2#1019, applicant_ethnicity-3#1020, applicant_ethnicity-4#1021, applicant_ethnicity-5#1022, co-applicant_ethnicity-1#1023, co-applicant_ethnicity-2#1024, co-applicant_ethnicity-3#1025, co-applicant_ethnicity-4#1026, co-applicant_ethnicity-5#1027, applicant_ethnicity_observed#1028, co-applicant_ethnicity_observed#1029, applicant_race-1#1030, applicant_race-2#1031, applicant_race-3#1032, applicant_race-4#1033, applicant_race-5#1034, co-applicant_race-1#1035, co-applicant_race-2#1036, co-applicant_race-3#1037, co-applicant_race-4#1038, co-applicant_race-5#1039, applicant_race_observed#1040, co-applicant_race_observed#1041, applicant_sex#1042, co-applicant_sex#1043, applicant_sex_observed#1044, co-applicant_sex_observed#1045, applicant_age#1046, co-applicant_age#1047, applicant_age_above_62#1048, co-applicant_age_above_62#1049, submission_of_application#1050, initially_payable_to_institution#1051, aus-1#1052, aus-2#1053, aus-3#1054, aus-4#1055, aus-5#1056, denial_reason-1#1057, denial_reason-2#1058, denial_reason-3#1059, denial_reason-4#1060, tract_population#1061, tract_minority_population_percent#1062, ffiec_msa_md_median_family_income#1063, tract_to_msa_income_percentage#1064, tract_owner_occupied_units#1065, tract_one_to_four_family_homes#1066, tract_median_age_of_housing_units#1067]\n",
      "Batched: true\n",
      "Location: InMemoryFileIndex [hdfs://main:9000/user/hive/warehouse/loans]\n",
      "PushedFilters: [IsNotNull(lei)]\n",
      "ReadSchema: struct<activity_year:int,lei:string,derived_msa-md:int,state_code:string,county_code:string,census_tract:string,conforming_loan_limit:string,derived_loan_product_type:string,derived_dwelling_category:string,derived_ethnicity:string,derived_race:string,derived_sex:string,action_taken:int,purchaser_type:int,preapproval:int,loan_type:int,loan_purpose:int,lien_status:int,reverse_mortgage:int,open-end_line_of_credit:int,business_or_commercial_purpose:int,loan_amount:double,loan_to_value_ratio:string,interest_rate:string,rate_spread:string,hoepa_status:int,total_loan_costs:string,total_points_and_fees:string,origination_charges:string,discount_points:string,lender_credits:string,loan_term:string,prepayment_penalty_term:string,intro_rate_period:string,negative_amortization:int,interest_only_payment:int,balloon_payment:int,other_nonamortizing_features:int,property_value:string,construction_method:int,occupancy_type:int,manufactured_home_secured_property_type:int,manufactured_home_land_property_interest:int,total_units:string,multifamily_affordable_units:string,income:string,debt_to_income_ratio:string,applicant_credit_score_type:int,co-applicant_credit_score_type:int,applicant_ethnicity-1:int,applicant_ethnicity-2:int,applicant_ethnicity-3:int,applicant_ethnicity-4:int,applicant_ethnicity-5:int,co-applicant_ethnicity-1:int,co-applicant_ethnicity-2:int,co-applicant_ethnicity-3:int,co-applicant_ethnicity-4:int,co-applicant_ethnicity-5:string,applicant_ethnicity_observed:int,co-applicant_ethnicity_observed:int,applicant_race-1:int,applicant_race-2:int,applicant_race-3:int,applicant_race-4:int,applicant_race-5:int,co-applicant_race-1:int,co-applicant_race-2:int,co-applicant_race-3:int,co-applicant_race-4:int,co-applicant_race-5:int,applicant_race_observed:int,co-applicant_race_observed:int,applicant_sex:int,co-applicant_sex:int,applicant_sex_observed:int,co-applicant_sex_observed:int,applicant_age:string,co-applicant_age:string,applicant_age_above_62:string,co-applicant_age_above_62:string,submission_of_application:int,initially_payable_to_institution:int,aus-1:int,aus-2:int,aus-3:int,aus-4:int,aus-5:int,denial_reason-1:int,denial_reason-2:int,denial_reason-3:int,denial_reason-4:int,tract_population:int,tract_minority_population_percent:double,ffiec_msa_md_median_family_income:int,tract_to_msa_income_percentage:int,tract_owner_occupied_units:int,tract_one_to_four_family_homes:int,tract_median_age_of_housing_units:int>\n",
      "\n",
      "(5) Filter\n",
      "Input [99]: [activity_year#969, lei#970, derived_msa-md#971, state_code#972, county_code#973, census_tract#974, conforming_loan_limit#975, derived_loan_product_type#976, derived_dwelling_category#977, derived_ethnicity#978, derived_race#979, derived_sex#980, action_taken#981, purchaser_type#982, preapproval#983, loan_type#984, loan_purpose#985, lien_status#986, reverse_mortgage#987, open-end_line_of_credit#988, business_or_commercial_purpose#989, loan_amount#990, loan_to_value_ratio#991, interest_rate#992, rate_spread#993, hoepa_status#994, total_loan_costs#995, total_points_and_fees#996, origination_charges#997, discount_points#998, lender_credits#999, loan_term#1000, prepayment_penalty_term#1001, intro_rate_period#1002, negative_amortization#1003, interest_only_payment#1004, balloon_payment#1005, other_nonamortizing_features#1006, property_value#1007, construction_method#1008, occupancy_type#1009, manufactured_home_secured_property_type#1010, manufactured_home_land_property_interest#1011, total_units#1012, multifamily_affordable_units#1013, income#1014, debt_to_income_ratio#1015, applicant_credit_score_type#1016, co-applicant_credit_score_type#1017, applicant_ethnicity-1#1018, applicant_ethnicity-2#1019, applicant_ethnicity-3#1020, applicant_ethnicity-4#1021, applicant_ethnicity-5#1022, co-applicant_ethnicity-1#1023, co-applicant_ethnicity-2#1024, co-applicant_ethnicity-3#1025, co-applicant_ethnicity-4#1026, co-applicant_ethnicity-5#1027, applicant_ethnicity_observed#1028, co-applicant_ethnicity_observed#1029, applicant_race-1#1030, applicant_race-2#1031, applicant_race-3#1032, applicant_race-4#1033, applicant_race-5#1034, co-applicant_race-1#1035, co-applicant_race-2#1036, co-applicant_race-3#1037, co-applicant_race-4#1038, co-applicant_race-5#1039, applicant_race_observed#1040, co-applicant_race_observed#1041, applicant_sex#1042, co-applicant_sex#1043, applicant_sex_observed#1044, co-applicant_sex_observed#1045, applicant_age#1046, co-applicant_age#1047, applicant_age_above_62#1048, co-applicant_age_above_62#1049, submission_of_application#1050, initially_payable_to_institution#1051, aus-1#1052, aus-2#1053, aus-3#1054, aus-4#1055, aus-5#1056, denial_reason-1#1057, denial_reason-2#1058, denial_reason-3#1059, denial_reason-4#1060, tract_population#1061, tract_minority_population_percent#1062, ffiec_msa_md_median_family_income#1063, tract_to_msa_income_percentage#1064, tract_owner_occupied_units#1065, tract_one_to_four_family_homes#1066, tract_median_age_of_housing_units#1067]\n",
      "Condition : isnotnull(lei#970)\n",
      "\n",
      "(6) BroadcastHashJoin\n",
      "Left keys [1]: [lei_2020#951]\n",
      "Right keys [1]: [lei#970]\n",
      "Join condition: None\n",
      "\n",
      "(7) AdaptiveSparkPlan\n",
      "Output [104]: [respondent_name#947, arid_2017#948, lei_2018#949, lei_2019#950, lei_2020#951, activity_year#969, lei#970, derived_msa-md#971, state_code#972, county_code#973, census_tract#974, conforming_loan_limit#975, derived_loan_product_type#976, derived_dwelling_category#977, derived_ethnicity#978, derived_race#979, derived_sex#980, action_taken#981, purchaser_type#982, preapproval#983, loan_type#984, loan_purpose#985, lien_status#986, reverse_mortgage#987, open-end_line_of_credit#988, business_or_commercial_purpose#989, loan_amount#990, loan_to_value_ratio#991, interest_rate#992, rate_spread#993, hoepa_status#994, total_loan_costs#995, total_points_and_fees#996, origination_charges#997, discount_points#998, lender_credits#999, loan_term#1000, prepayment_penalty_term#1001, intro_rate_period#1002, negative_amortization#1003, interest_only_payment#1004, balloon_payment#1005, other_nonamortizing_features#1006, property_value#1007, construction_method#1008, occupancy_type#1009, manufactured_home_secured_property_type#1010, manufactured_home_land_property_interest#1011, total_units#1012, multifamily_affordable_units#1013, income#1014, debt_to_income_ratio#1015, applicant_credit_score_type#1016, co-applicant_credit_score_type#1017, applicant_ethnicity-1#1018, applicant_ethnicity-2#1019, applicant_ethnicity-3#1020, applicant_ethnicity-4#1021, applicant_ethnicity-5#1022, co-applicant_ethnicity-1#1023, co-applicant_ethnicity-2#1024, co-applicant_ethnicity-3#1025, co-applicant_ethnicity-4#1026, co-applicant_ethnicity-5#1027, applicant_ethnicity_observed#1028, co-applicant_ethnicity_observed#1029, applicant_race-1#1030, applicant_race-2#1031, applicant_race-3#1032, applicant_race-4#1033, applicant_race-5#1034, co-applicant_race-1#1035, co-applicant_race-2#1036, co-applicant_race-3#1037, co-applicant_race-4#1038, co-applicant_race-5#1039, applicant_race_observed#1040, co-applicant_race_observed#1041, applicant_sex#1042, co-applicant_sex#1043, applicant_sex_observed#1044, co-applicant_sex_observed#1045, applicant_age#1046, co-applicant_age#1047, applicant_age_above_62#1048, co-applicant_age_above_62#1049, submission_of_application#1050, initially_payable_to_institution#1051, aus-1#1052, aus-2#1053, aus-3#1054, aus-4#1055, aus-5#1056, denial_reason-1#1057, denial_reason-2#1058, denial_reason-3#1059, denial_reason-4#1060, tract_population#1061, tract_minority_population_percent#1062, ffiec_msa_md_median_family_income#1063, tract_to_msa_income_percentage#1064, tract_owner_occupied_units#1065, tract_one_to_four_family_homes#1066, tract_median_age_of_housing_units#1067]\n",
      "Arguments: isFinalPlan=false\n",
      "\n",
      "\n"
     ]
    }
   ],
   "source": [
    "#Q4\n",
    "results.explain(\"formatted\")"
   ]
  },
  {
   "cell_type": "code",
   "execution_count": 24,
   "id": "b9d60987-4d00-4af1-a0b8-dc6cf580ab41",
   "metadata": {},
   "outputs": [],
   "source": [
    "#Q4\n",
    "# 1) We can see that our banks table is inputed into Broadcast Exchange because the Input Columns correspond to the column names belonging to Banks \n",
    "# 2) We can see two filtering steps in the plan, one for both tables. the condition \"isnotnull\" is first ran our banks table in step 2\n",
    "# another filtering step is then ran in step 5 with condition \"is not null(lei)\". \n",
    "# 3) Our Plan does NOT involve a Hash Aggregate in the Spark Plan"
   ]
  },
  {
   "cell_type": "code",
   "execution_count": 25,
   "id": "02c13a38-52fe-454b-bffd-01ae4ddb8717",
   "metadata": {},
   "outputs": [
    {
     "data": {
      "text/html": [
       "<div>\n",
       "<style scoped>\n",
       "    .dataframe tbody tr th:only-of-type {\n",
       "        vertical-align: middle;\n",
       "    }\n",
       "\n",
       "    .dataframe tbody tr th {\n",
       "        vertical-align: top;\n",
       "    }\n",
       "\n",
       "    .dataframe thead th {\n",
       "        text-align: right;\n",
       "    }\n",
       "</style>\n",
       "<table border=\"1\" class=\"dataframe\">\n",
       "  <thead>\n",
       "    <tr style=\"text-align: right;\">\n",
       "      <th></th>\n",
       "      <th>NAME</th>\n",
       "      <th>county_code</th>\n",
       "    </tr>\n",
       "  </thead>\n",
       "  <tbody>\n",
       "    <tr>\n",
       "      <th>0</th>\n",
       "      <td>North Slope</td>\n",
       "      <td>20185</td>\n",
       "    </tr>\n",
       "    <tr>\n",
       "      <th>1</th>\n",
       "      <td>Yukon-Koyukuk</td>\n",
       "      <td>20290</td>\n",
       "    </tr>\n",
       "    <tr>\n",
       "      <th>2</th>\n",
       "      <td>Northwest Arctic</td>\n",
       "      <td>20188</td>\n",
       "    </tr>\n",
       "    <tr>\n",
       "      <th>3</th>\n",
       "      <td>Nome</td>\n",
       "      <td>20180</td>\n",
       "    </tr>\n",
       "    <tr>\n",
       "      <th>4</th>\n",
       "      <td>Nome</td>\n",
       "      <td>20180</td>\n",
       "    </tr>\n",
       "    <tr>\n",
       "      <th>5</th>\n",
       "      <td>Southeast Fairbanks</td>\n",
       "      <td>20240</td>\n",
       "    </tr>\n",
       "    <tr>\n",
       "      <th>6</th>\n",
       "      <td>Nome</td>\n",
       "      <td>20180</td>\n",
       "    </tr>\n",
       "    <tr>\n",
       "      <th>7</th>\n",
       "      <td>Fairbanks North Star</td>\n",
       "      <td>20090</td>\n",
       "    </tr>\n",
       "    <tr>\n",
       "      <th>8</th>\n",
       "      <td>Nome</td>\n",
       "      <td>20180</td>\n",
       "    </tr>\n",
       "    <tr>\n",
       "      <th>9</th>\n",
       "      <td>Denali</td>\n",
       "      <td>20068</td>\n",
       "    </tr>\n",
       "  </tbody>\n",
       "</table>\n",
       "</div>"
      ],
      "text/plain": [
       "                   NAME county_code\n",
       "0           North Slope       20185\n",
       "1         Yukon-Koyukuk       20290\n",
       "2      Northwest Arctic       20188\n",
       "3                  Nome       20180\n",
       "4                  Nome       20180\n",
       "5   Southeast Fairbanks       20240\n",
       "6                  Nome       20180\n",
       "7  Fairbanks North Star       20090\n",
       "8                  Nome       20180\n",
       "9                Denali       20068"
      ]
     },
     "execution_count": 25,
     "metadata": {},
     "output_type": "execute_result"
    }
   ],
   "source": [
    "counties = spark.table(\"counties\").distinct()\n",
    "\n",
    "fixed_counties = (spark.table(\"counties\").select(counties.NAME, counties.STATE, counties.COUNTY, rpad(counties.STATE, 2, '0').alias(\"state1\")\n",
    "                              , lpad(counties.COUNTY, 3, '0').alias(\"county1\"))\n",
    " .select(col(\"NAME\"), concat(col(\"state1\"), col(\"county1\")).alias('county_code')))\n",
    "\n",
    "fixed_counties.limit(10).toPandas()"
   ]
  },
  {
   "cell_type": "markdown",
   "id": "d447234a-f686-4f8b-ace3-8cfc1c376aeb",
   "metadata": {},
   "source": [
    "### Q5: what are the top 10 biggest loans (in terms of loan_amount) that were approved by your favorite bank?"
   ]
  },
  {
   "cell_type": "code",
   "execution_count": 26,
   "id": "800e3b27-bb93-4466-931f-db0e20a7bfd0",
   "metadata": {},
   "outputs": [],
   "source": [
    "action_taken = spark.table(\"action_taken\")\n",
    "loan_purpose = spark.table(\"loan_purpose\")\n",
    "\n",
    "#getting a fixed counties table which fixes issues of 0's in countycodes and concats state and county\n",
    "fixed_counties = (spark.table(\"counties\").select(counties.NAME, counties.STATE, counties.COUNTY, rpad(counties.STATE, 2, '0').alias(\"state1\")\n",
    "                              , lpad(counties.COUNTY, 3, '0').alias(\"county1\"))\n",
    " .select(col(\"NAME\"), concat(col(\"state1\"), col(\"county1\")).alias('county_code')))\n",
    "\n",
    "#computing the answer to q5\n",
    "q5 = (loans.join(loan_purpose, loans[\"loan_purpose\"] == loan_purpose[\"id\"], how = \"left\")\n",
    "     .join(action_taken, loans[\"action_taken\"] == action_taken[\"id\"], how = \"left\")\n",
    "     .join(banks, loans[\"lei\"] == banks[\"lei_2020\"], how = \"left\")\n",
    "     .join(fixed_counties, loans[\"county_code\"] == fixed_counties[\"county_code\"])\n",
    "     .select(loans.census_tract, fixed_counties.NAME , loan_purpose.loan_purpose, loans.derived_dwelling_category\n",
    "             , loans.interest_rate, (loans.loan_amount/1000).alias(\"thousands\")\n",
    "             , (loans.loan_term/12).alias(\"years\"), action_taken.action_taken)\n",
    "     .where(banks.respondent_name == \"Associated Bank, National Association\")\n",
    "     .where(action_taken.action_taken == \"Loan originated\")\n",
    "     .orderBy(col(\"thousands\").desc()))"
   ]
  },
  {
   "cell_type": "code",
   "execution_count": 27,
   "id": "cd4a77b1-421c-43a0-b343-4fa09b616160",
   "metadata": {},
   "outputs": [
    {
     "name": "stderr",
     "output_type": "stream",
     "text": [
      "                                                                                \r"
     ]
    },
    {
     "data": {
      "text/html": [
       "<div>\n",
       "<style scoped>\n",
       "    .dataframe tbody tr th:only-of-type {\n",
       "        vertical-align: middle;\n",
       "    }\n",
       "\n",
       "    .dataframe tbody tr th {\n",
       "        vertical-align: top;\n",
       "    }\n",
       "\n",
       "    .dataframe thead th {\n",
       "        text-align: right;\n",
       "    }\n",
       "</style>\n",
       "<table border=\"1\" class=\"dataframe\">\n",
       "  <thead>\n",
       "    <tr style=\"text-align: right;\">\n",
       "      <th></th>\n",
       "      <th>census_tract</th>\n",
       "      <th>NAME</th>\n",
       "      <th>loan_purpose</th>\n",
       "      <th>derived_dwelling_category</th>\n",
       "      <th>interest_rate</th>\n",
       "      <th>thousands</th>\n",
       "      <th>years</th>\n",
       "      <th>action_taken</th>\n",
       "    </tr>\n",
       "  </thead>\n",
       "  <tbody>\n",
       "    <tr>\n",
       "      <th>0</th>\n",
       "      <td>55079130200</td>\n",
       "      <td>Milwaukee</td>\n",
       "      <td>None</td>\n",
       "      <td>Multifamily:Site-Built</td>\n",
       "      <td>2.06</td>\n",
       "      <td>27835.0</td>\n",
       "      <td>10.0</td>\n",
       "      <td>Loan originated</td>\n",
       "    </tr>\n",
       "    <tr>\n",
       "      <th>1</th>\n",
       "      <td>55133204302</td>\n",
       "      <td>Waukesha</td>\n",
       "      <td>Home purchase</td>\n",
       "      <td>Multifamily:Site-Built</td>\n",
       "      <td>2.49</td>\n",
       "      <td>27255.0</td>\n",
       "      <td>3.0</td>\n",
       "      <td>Loan originated</td>\n",
       "    </tr>\n",
       "    <tr>\n",
       "      <th>2</th>\n",
       "      <td>55101001701</td>\n",
       "      <td>Racine</td>\n",
       "      <td>Home purchase</td>\n",
       "      <td>Multifamily:Site-Built</td>\n",
       "      <td>2.35</td>\n",
       "      <td>25885.0</td>\n",
       "      <td>5.0</td>\n",
       "      <td>Loan originated</td>\n",
       "    </tr>\n",
       "    <tr>\n",
       "      <th>3</th>\n",
       "      <td>55079130200</td>\n",
       "      <td>Milwaukee</td>\n",
       "      <td>Home purchase</td>\n",
       "      <td>Multifamily:Site-Built</td>\n",
       "      <td>2.75</td>\n",
       "      <td>20425.0</td>\n",
       "      <td>3.0</td>\n",
       "      <td>Loan originated</td>\n",
       "    </tr>\n",
       "    <tr>\n",
       "      <th>4</th>\n",
       "      <td>55133201101</td>\n",
       "      <td>Waukesha</td>\n",
       "      <td>Home purchase</td>\n",
       "      <td>Multifamily:Site-Built</td>\n",
       "      <td>3.25</td>\n",
       "      <td>20255.0</td>\n",
       "      <td>3.0</td>\n",
       "      <td>Loan originated</td>\n",
       "    </tr>\n",
       "    <tr>\n",
       "      <th>5</th>\n",
       "      <td>55087010100</td>\n",
       "      <td>Outagamie</td>\n",
       "      <td>Home purchase</td>\n",
       "      <td>Multifamily:Site-Built</td>\n",
       "      <td>3.75</td>\n",
       "      <td>14245.0</td>\n",
       "      <td>2.0</td>\n",
       "      <td>Loan originated</td>\n",
       "    </tr>\n",
       "    <tr>\n",
       "      <th>6</th>\n",
       "      <td>55133200201</td>\n",
       "      <td>Waukesha</td>\n",
       "      <td>None</td>\n",
       "      <td>Multifamily:Site-Built</td>\n",
       "      <td>2.36</td>\n",
       "      <td>13005.0</td>\n",
       "      <td>10.0</td>\n",
       "      <td>Loan originated</td>\n",
       "    </tr>\n",
       "    <tr>\n",
       "      <th>7</th>\n",
       "      <td>55079003400</td>\n",
       "      <td>Milwaukee</td>\n",
       "      <td>None</td>\n",
       "      <td>Multifamily:Site-Built</td>\n",
       "      <td>2.75</td>\n",
       "      <td>9535.0</td>\n",
       "      <td>5.0</td>\n",
       "      <td>Loan originated</td>\n",
       "    </tr>\n",
       "    <tr>\n",
       "      <th>8</th>\n",
       "      <td>55079185100</td>\n",
       "      <td>Milwaukee</td>\n",
       "      <td>None</td>\n",
       "      <td>Multifamily:Site-Built</td>\n",
       "      <td>2.75</td>\n",
       "      <td>9315.0</td>\n",
       "      <td>5.0</td>\n",
       "      <td>Loan originated</td>\n",
       "    </tr>\n",
       "    <tr>\n",
       "      <th>9</th>\n",
       "      <td>55139001600</td>\n",
       "      <td>Winnebago</td>\n",
       "      <td>None</td>\n",
       "      <td>Multifamily:Site-Built</td>\n",
       "      <td>3.25</td>\n",
       "      <td>9305.0</td>\n",
       "      <td>7.0</td>\n",
       "      <td>Loan originated</td>\n",
       "    </tr>\n",
       "  </tbody>\n",
       "</table>\n",
       "</div>"
      ],
      "text/plain": [
       "  census_tract       NAME   loan_purpose derived_dwelling_category  \\\n",
       "0  55079130200  Milwaukee           None    Multifamily:Site-Built   \n",
       "1  55133204302   Waukesha  Home purchase    Multifamily:Site-Built   \n",
       "2  55101001701     Racine  Home purchase    Multifamily:Site-Built   \n",
       "3  55079130200  Milwaukee  Home purchase    Multifamily:Site-Built   \n",
       "4  55133201101   Waukesha  Home purchase    Multifamily:Site-Built   \n",
       "5  55087010100  Outagamie  Home purchase    Multifamily:Site-Built   \n",
       "6  55133200201   Waukesha           None    Multifamily:Site-Built   \n",
       "7  55079003400  Milwaukee           None    Multifamily:Site-Built   \n",
       "8  55079185100  Milwaukee           None    Multifamily:Site-Built   \n",
       "9  55139001600  Winnebago           None    Multifamily:Site-Built   \n",
       "\n",
       "  interest_rate  thousands  years     action_taken  \n",
       "0          2.06    27835.0   10.0  Loan originated  \n",
       "1          2.49    27255.0    3.0  Loan originated  \n",
       "2          2.35    25885.0    5.0  Loan originated  \n",
       "3          2.75    20425.0    3.0  Loan originated  \n",
       "4          3.25    20255.0    3.0  Loan originated  \n",
       "5          3.75    14245.0    2.0  Loan originated  \n",
       "6          2.36    13005.0   10.0  Loan originated  \n",
       "7          2.75     9535.0    5.0  Loan originated  \n",
       "8          2.75     9315.0    5.0  Loan originated  \n",
       "9          3.25     9305.0    7.0  Loan originated  "
      ]
     },
     "execution_count": 27,
     "metadata": {},
     "output_type": "execute_result"
    }
   ],
   "source": [
    "q5.limit(10).toPandas()"
   ]
  },
  {
   "cell_type": "markdown",
   "id": "8d1ff6cf-914c-4924-8d2b-ad308b0b84c7",
   "metadata": {},
   "source": [
    "### Q6: when computing a MEAN aggregate per group of loans, under what situation (when) do we require network I/O between the partial_mean and mean operations?"
   ]
  },
  {
   "cell_type": "code",
   "execution_count": 28,
   "id": "486f03c7-b8e2-4564-807f-ece2bba5e174",
   "metadata": {},
   "outputs": [
    {
     "name": "stdout",
     "output_type": "stream",
     "text": [
      "== Physical Plan ==\n",
      "AdaptiveSparkPlan (5)\n",
      "+- HashAggregate (4)\n",
      "   +- Exchange (3)\n",
      "      +- HashAggregate (2)\n",
      "         +- Scan parquet default.loans (1)\n",
      "\n",
      "\n",
      "(1) Scan parquet default.loans\n",
      "Output [2]: [lei#970, loan_amount#990]\n",
      "Batched: true\n",
      "Location: InMemoryFileIndex [hdfs://main:9000/user/hive/warehouse/loans]\n",
      "ReadSchema: struct<lei:string,loan_amount:double>\n",
      "\n",
      "(2) HashAggregate\n",
      "Input [2]: [lei#970, loan_amount#990]\n",
      "Keys [1]: [lei#970]\n",
      "Functions [1]: [partial_avg(loan_amount#990)]\n",
      "Aggregate Attributes [2]: [sum#2502, count#2503L]\n",
      "Results [3]: [lei#970, sum#2504, count#2505L]\n",
      "\n",
      "(3) Exchange\n",
      "Input [3]: [lei#970, sum#2504, count#2505L]\n",
      "Arguments: hashpartitioning(lei#970, 200), ENSURE_REQUIREMENTS, [plan_id=1056]\n",
      "\n",
      "(4) HashAggregate\n",
      "Input [3]: [lei#970, sum#2504, count#2505L]\n",
      "Keys [1]: [lei#970]\n",
      "Functions [1]: [avg(loan_amount#990)]\n",
      "Aggregate Attributes [1]: [avg(loan_amount#990)#2498]\n",
      "Results [2]: [lei#970, avg(loan_amount#990)#2498 AS avg(loan_amount)#2499]\n",
      "\n",
      "(5) AdaptiveSparkPlan\n",
      "Output [2]: [lei#970, avg(loan_amount)#2499]\n",
      "Arguments: isFinalPlan=false\n",
      "\n",
      "\n"
     ]
    }
   ],
   "source": [
    "loans.groupby(col('lei')).avg('loan_amount').explain('formatted')"
   ]
  },
  {
   "cell_type": "code",
   "execution_count": 29,
   "id": "c5f20727-8896-4ddd-bd65-7263113a9b72",
   "metadata": {},
   "outputs": [
    {
     "name": "stdout",
     "output_type": "stream",
     "text": [
      "== Physical Plan ==\n",
      "AdaptiveSparkPlan (4)\n",
      "+- HashAggregate (3)\n",
      "   +- HashAggregate (2)\n",
      "      +- Scan parquet default.loans (1)\n",
      "\n",
      "\n",
      "(1) Scan parquet default.loans\n",
      "Output [2]: [county_code#973, loan_amount#990]\n",
      "Batched: true\n",
      "Location: InMemoryFileIndex [hdfs://main:9000/user/hive/warehouse/loans]\n",
      "ReadSchema: struct<county_code:string,loan_amount:double>\n",
      "SelectedBucketsCount: 8 out of 8\n",
      "\n",
      "(2) HashAggregate\n",
      "Input [2]: [county_code#973, loan_amount#990]\n",
      "Keys [1]: [county_code#973]\n",
      "Functions [1]: [partial_avg(loan_amount#990)]\n",
      "Aggregate Attributes [2]: [sum#2609, count#2610L]\n",
      "Results [3]: [county_code#973, sum#2611, count#2612L]\n",
      "\n",
      "(3) HashAggregate\n",
      "Input [3]: [county_code#973, sum#2611, count#2612L]\n",
      "Keys [1]: [county_code#973]\n",
      "Functions [1]: [avg(loan_amount#990)]\n",
      "Aggregate Attributes [1]: [avg(loan_amount#990)#2605]\n",
      "Results [2]: [county_code#973, avg(loan_amount#990)#2605 AS avg(loan_amount)#2606]\n",
      "\n",
      "(4) AdaptiveSparkPlan\n",
      "Output [2]: [county_code#973, avg(loan_amount)#2606]\n",
      "Arguments: isFinalPlan=false\n",
      "\n",
      "\n"
     ]
    }
   ],
   "source": [
    "loans.groupby(col('county_code')).avg('loan_amount').explain('formatted')"
   ]
  },
  {
   "cell_type": "code",
   "execution_count": 30,
   "id": "c49b94a2-364f-4433-9518-4e6c02c2e2c9",
   "metadata": {},
   "outputs": [],
   "source": [
    "# There exists an exchange step in our lei grouped query, but not our county_code group query\n",
    "# so when we find the mean aggregate grouping by the lei column, we need network I/O. In spark we initially have arbitrary \n",
    "# partitions by default to avoid very large partitions when a certain key dominates. when we group by the lei column we need\n",
    "# to shuffle/exchange the data so that for any key, all the rows are in the same partition. these partitions may be across\n",
    "# multiple machines (usually the case in distributed computing) so, we have to trasnfer data across the network\n",
    "# the when we ran the same query but, grouped by county_code instead, there is no network I/O because we opted to bucket\n",
    "# our data by the county_code column when loading into hive. So, all rows for any particular county code are already in the\n",
    "# same partition. "
   ]
  },
  {
   "cell_type": "markdown",
   "id": "d7c9abc3-d01e-4818-9f66-8028bc92a09b",
   "metadata": {},
   "source": [
    "### Q7: what are the average interest rates for Wells Fargo applications for the ten counties where Wells Fargo receives the most applications?"
   ]
  },
  {
   "cell_type": "code",
   "execution_count": 31,
   "id": "a5fdaaba-cc9d-43b6-a70c-c1d14d0321ec",
   "metadata": {},
   "outputs": [
    {
     "name": "stderr",
     "output_type": "stream",
     "text": [
      "                                                                                \r"
     ]
    },
    {
     "data": {
      "text/html": [
       "<div>\n",
       "<style scoped>\n",
       "    .dataframe tbody tr th:only-of-type {\n",
       "        vertical-align: middle;\n",
       "    }\n",
       "\n",
       "    .dataframe tbody tr th {\n",
       "        vertical-align: top;\n",
       "    }\n",
       "\n",
       "    .dataframe thead th {\n",
       "        text-align: right;\n",
       "    }\n",
       "</style>\n",
       "<table border=\"1\" class=\"dataframe\">\n",
       "  <thead>\n",
       "    <tr style=\"text-align: right;\">\n",
       "      <th></th>\n",
       "      <th>name</th>\n",
       "      <th>loan_count</th>\n",
       "      <th>Average Interest Rate</th>\n",
       "    </tr>\n",
       "  </thead>\n",
       "  <tbody>\n",
       "    <tr>\n",
       "      <th>0</th>\n",
       "      <td>Milwaukee</td>\n",
       "      <td>2164</td>\n",
       "      <td>3.117347</td>\n",
       "    </tr>\n",
       "    <tr>\n",
       "      <th>1</th>\n",
       "      <td>Waukesha</td>\n",
       "      <td>1832</td>\n",
       "      <td>2.875823</td>\n",
       "    </tr>\n",
       "    <tr>\n",
       "      <th>2</th>\n",
       "      <td>Washington</td>\n",
       "      <td>748</td>\n",
       "      <td>2.851009</td>\n",
       "    </tr>\n",
       "    <tr>\n",
       "      <th>3</th>\n",
       "      <td>Dane</td>\n",
       "      <td>729</td>\n",
       "      <td>2.890675</td>\n",
       "    </tr>\n",
       "    <tr>\n",
       "      <th>4</th>\n",
       "      <td>Brown</td>\n",
       "      <td>663</td>\n",
       "      <td>3.010949</td>\n",
       "    </tr>\n",
       "    <tr>\n",
       "      <th>5</th>\n",
       "      <td>Racine</td>\n",
       "      <td>537</td>\n",
       "      <td>3.099784</td>\n",
       "    </tr>\n",
       "    <tr>\n",
       "      <th>6</th>\n",
       "      <td>Outagamie</td>\n",
       "      <td>513</td>\n",
       "      <td>2.979662</td>\n",
       "    </tr>\n",
       "    <tr>\n",
       "      <th>7</th>\n",
       "      <td>Winnebago</td>\n",
       "      <td>402</td>\n",
       "      <td>3.028476</td>\n",
       "    </tr>\n",
       "    <tr>\n",
       "      <th>8</th>\n",
       "      <td>Ozaukee</td>\n",
       "      <td>389</td>\n",
       "      <td>2.867377</td>\n",
       "    </tr>\n",
       "    <tr>\n",
       "      <th>9</th>\n",
       "      <td>Sheboygan</td>\n",
       "      <td>307</td>\n",
       "      <td>2.995511</td>\n",
       "    </tr>\n",
       "  </tbody>\n",
       "</table>\n",
       "</div>"
      ],
      "text/plain": [
       "         name  loan_count  Average Interest Rate\n",
       "0   Milwaukee        2164               3.117347\n",
       "1    Waukesha        1832               2.875823\n",
       "2  Washington         748               2.851009\n",
       "3        Dane         729               2.890675\n",
       "4       Brown         663               3.010949\n",
       "5      Racine         537               3.099784\n",
       "6   Outagamie         513               2.979662\n",
       "7   Winnebago         402               3.028476\n",
       "8     Ozaukee         389               2.867377\n",
       "9   Sheboygan         307               2.995511"
      ]
     },
     "execution_count": 31,
     "metadata": {},
     "output_type": "execute_result"
    }
   ],
   "source": [
    "#Q7\n",
    "WellsFargoTopCounties = (loans.join(loan_purpose, loans[\"loan_purpose\"] == loan_purpose[\"id\"], how = \"left\")\n",
    "     .join(banks, loans[\"lei\"] == banks[\"lei_2020\"], how = \"left\")\n",
    "     .join(fixed_counties, loans[\"county_code\"] == fixed_counties[\"county_code\"])\n",
    "     .select(fixed_counties.NAME.alias(\"name\"), loans.interest_rate, banks.respondent_name)\n",
    "     .where(banks.respondent_name == \"Wells Fargo Bank, National Association\")\n",
    "     .groupby(col(\"name\"))\n",
    "     .agg(\n",
    "         expr(\"COUNT(*)\").alias(\"loan_count\")\n",
    "        ,expr(\"AVG(interest_rate)\").alias(\"Average Interest Rate\")\n",
    "     )\n",
    "     .orderBy(col(\"loan_count\").desc())\n",
    "     )\n",
    "\n",
    "\n",
    "q7 = WellsFargoTopCounties.limit(10).toPandas()\n",
    "q7"
   ]
  },
  {
   "cell_type": "code",
   "execution_count": 32,
   "id": "3de97726-60f9-4c44-a50f-174799fd82c1",
   "metadata": {},
   "outputs": [
    {
     "data": {
      "text/plain": [
       "Text(0, 0.5, 'Average Interest Rate')"
      ]
     },
     "execution_count": 32,
     "metadata": {},
     "output_type": "execute_result"
    },
    {
     "data": {
      "image/png": "[encoded data removed]",
      "text/plain": [
       "<Figure size 640x480 with 1 Axes>"
      ]
     },
     "metadata": {},
     "output_type": "display_data"
    }
   ],
   "source": [
    "#q7\n",
    "ax = q7.plot.bar(x=\"name\", y=\"Average Interest Rate\", legend = False)\n",
    "ax.set_ylabel(\"Average Interest Rate\")"
   ]
  },
  {
   "cell_type": "markdown",
   "id": "f6b79254-facd-4f3d-a88f-6fd182cb6a4a",
   "metadata": {},
   "source": [
    "### Q8: what is the second biggest loan application amount in each county? (answer for top 10 counties)."
   ]
  },
  {
   "cell_type": "code",
   "execution_count": 33,
   "id": "c1def3bd-f1d8-45e2-b075-e5dc6ff11a1d",
   "metadata": {},
   "outputs": [
    {
     "name": "stderr",
     "output_type": "stream",
     "text": [
      "                                                                                \r"
     ]
    },
    {
     "data": {
      "text/html": [
       "<div>\n",
       "<style scoped>\n",
       "    .dataframe tbody tr th:only-of-type {\n",
       "        vertical-align: middle;\n",
       "    }\n",
       "\n",
       "    .dataframe tbody tr th {\n",
       "        vertical-align: top;\n",
       "    }\n",
       "\n",
       "    .dataframe thead th {\n",
       "        text-align: right;\n",
       "    }\n",
       "</style>\n",
       "<table border=\"1\" class=\"dataframe\">\n",
       "  <thead>\n",
       "    <tr style=\"text-align: right;\">\n",
       "      <th></th>\n",
       "      <th>name</th>\n",
       "      <th>2nd Biggest Loan Application (Millions $)</th>\n",
       "      <th>row_num</th>\n",
       "    </tr>\n",
       "  </thead>\n",
       "  <tbody>\n",
       "    <tr>\n",
       "      <th>0</th>\n",
       "      <td>Kenosha</td>\n",
       "      <td>66.005</td>\n",
       "      <td>2</td>\n",
       "    </tr>\n",
       "    <tr>\n",
       "      <th>1</th>\n",
       "      <td>Dane</td>\n",
       "      <td>52.005</td>\n",
       "      <td>2</td>\n",
       "    </tr>\n",
       "    <tr>\n",
       "      <th>2</th>\n",
       "      <td>Milwaukee</td>\n",
       "      <td>42.005</td>\n",
       "      <td>2</td>\n",
       "    </tr>\n",
       "    <tr>\n",
       "      <th>3</th>\n",
       "      <td>Waukesha</td>\n",
       "      <td>30.005</td>\n",
       "      <td>2</td>\n",
       "    </tr>\n",
       "    <tr>\n",
       "      <th>4</th>\n",
       "      <td>Ozaukee</td>\n",
       "      <td>29.915</td>\n",
       "      <td>2</td>\n",
       "    </tr>\n",
       "    <tr>\n",
       "      <th>5</th>\n",
       "      <td>Walworth</td>\n",
       "      <td>17.695</td>\n",
       "      <td>2</td>\n",
       "    </tr>\n",
       "    <tr>\n",
       "      <th>6</th>\n",
       "      <td>Brown</td>\n",
       "      <td>17.215</td>\n",
       "      <td>2</td>\n",
       "    </tr>\n",
       "    <tr>\n",
       "      <th>7</th>\n",
       "      <td>La Crosse</td>\n",
       "      <td>15.955</td>\n",
       "      <td>2</td>\n",
       "    </tr>\n",
       "    <tr>\n",
       "      <th>8</th>\n",
       "      <td>Washington</td>\n",
       "      <td>11.705</td>\n",
       "      <td>2</td>\n",
       "    </tr>\n",
       "    <tr>\n",
       "      <th>9</th>\n",
       "      <td>Outagamie</td>\n",
       "      <td>10.965</td>\n",
       "      <td>2</td>\n",
       "    </tr>\n",
       "  </tbody>\n",
       "</table>\n",
       "</div>"
      ],
      "text/plain": [
       "         name  2nd Biggest Loan Application (Millions $)  row_num\n",
       "0     Kenosha                                     66.005        2\n",
       "1        Dane                                     52.005        2\n",
       "2   Milwaukee                                     42.005        2\n",
       "3    Waukesha                                     30.005        2\n",
       "4     Ozaukee                                     29.915        2\n",
       "5    Walworth                                     17.695        2\n",
       "6       Brown                                     17.215        2\n",
       "7   La Crosse                                     15.955        2\n",
       "8  Washington                                     11.705        2\n",
       "9   Outagamie                                     10.965        2"
      ]
     },
     "execution_count": 33,
     "metadata": {},
     "output_type": "execute_result"
    }
   ],
   "source": [
    "#q8\n",
    "#referenced following link for windowing in spark: https://www.geeksforgeeks.org/pyspark-window-functions/\n",
    "windowPartition = Window.partitionBy(\"name\").orderBy(col(\"2nd Biggest Loan Application (Millions $)\").desc())\n",
    "\n",
    "q8 = (loans.join(fixed_counties, loans[\"county_code\"] == fixed_counties[\"county_code\"])\n",
    " .select(counties.NAME.alias(\"name\"), (loans.loan_amount/1000000).alias(\"2nd Biggest Loan Application (Millions $)\"))\n",
    " .withColumn(\"row_num\", rank().over(windowPartition))\n",
    " .where(col(\"row_num\") == 2)\n",
    " .orderBy(col(\"2nd Biggest Loan Application (Millions $)\").desc())\n",
    " .limit(10).toPandas())\n",
    "\n",
    "q8"
   ]
  },
  {
   "cell_type": "code",
   "execution_count": 34,
   "id": "576d43cd-2f11-4c61-ada2-f6d0909d70f6",
   "metadata": {},
   "outputs": [
    {
     "data": {
      "text/plain": [
       "Text(0, 0.5, '2nd Biggest Loan Application (Millions $)')"
      ]
     },
     "execution_count": 34,
     "metadata": {},
     "output_type": "execute_result"
    },
    {
     "data": {
      "image/png": "[encoded data removed]",
      "text/plain": [
       "<Figure size 640x480 with 1 Axes>"
      ]
     },
     "metadata": {},
     "output_type": "display_data"
    }
   ],
   "source": [
    "#q8\n",
    "ax = q8.plot.bar(x=\"name\", y=\"2nd Biggest Loan Application (Millions $)\", legend = False)\n",
    "ax.set_ylabel(\"2nd Biggest Loan Application (Millions $)\")"
   ]
  },
  {
   "cell_type": "markdown",
   "id": "fe84f9db-7ff1-4f1d-a1d4-5dccf44fb372",
   "metadata": {},
   "source": [
    "### Q9: what is the cost of caching and the impact on subsequent queries?"
   ]
  },
  {
   "cell_type": "code",
   "execution_count": 35,
   "id": "e0bd739e-a0d1-485e-b63b-a016274f3b7a",
   "metadata": {},
   "outputs": [
    {
     "data": {
      "text/plain": [
       "DataFrame[interest_rate: string]"
      ]
     },
     "execution_count": 35,
     "metadata": {},
     "output_type": "execute_result"
    }
   ],
   "source": [
    "df = spark.sql(\"\"\"\n",
    "SELECT interest_rate\n",
    "FROM banks\n",
    "INNER JOIN loans\n",
    "ON banks.lei_2020 = loans.lei \n",
    "WHERE banks.respondent_name = 'Wells Fargo Bank, National Association'\n",
    "\"\"\")\n",
    "df.unpersist()"
   ]
  },
  {
   "cell_type": "code",
   "execution_count": 36,
   "id": "fbda18f8-ddc5-435e-bef1-f61d9e918100",
   "metadata": {},
   "outputs": [
    {
     "name": "stderr",
     "output_type": "stream",
     "text": [
      "                                                                                \r"
     ]
    }
   ],
   "source": [
    "first = []\n",
    "second= []\n",
    "NotCached = []\n",
    "Cached = []\n",
    "isCached = False\n",
    "for i in range(10):\n",
    "    #caching in middle of loop\n",
    "    if i == 5:\n",
    "        df.cache()\n",
    "        isCached = True\n",
    "    \n",
    "    #recording time it takes for query to run\n",
    "    t0 = time.time()\n",
    "    df.count()\n",
    "    t1 = time.time()\n",
    "    ms = (t1 - t0) * 1000\n",
    "    \n",
    "    #updating tracker\n",
    "    if isCached:\n",
    "        second.append(i)\n",
    "        Cached.append(ms)\n",
    "    else:\n",
    "        first.append(i)\n",
    "        NotCached.append(ms)"
   ]
  },
  {
   "cell_type": "code",
   "execution_count": 37,
   "id": "e7a5be64-b133-4b64-8a23-09b2c8d5c359",
   "metadata": {},
   "outputs": [
    {
     "data": {
      "text/plain": [
       "<matplotlib.legend.Legend at 0x7fb30980fc40>"
      ]
     },
     "execution_count": 37,
     "metadata": {},
     "output_type": "execute_result"
    },
    {
     "data": {
      "image/png": "[encoded data removed]",
      "text/plain": [
       "<Figure size 640x480 with 1 Axes>"
      ]
     },
     "metadata": {},
     "output_type": "display_data"
    }
   ],
   "source": [
    "plt.plot(first, NotCached, label = \"No Caching\")\n",
    "plt.plot(second, Cached, label = \"Caching\")\n",
    "plt.xlabel(\"Query Number\")\n",
    "plt.ylabel(\"Milliseconds\")\n",
    "plt.legend()"
   ]
  },
  {
   "cell_type": "markdown",
   "id": "fabecea8-22ad-4649-ad01-57b02ec0789b",
   "metadata": {},
   "source": [
    "### Q10: what is the impact of caching a single partition on load balance?"
   ]
  },
  {
   "cell_type": "code",
   "execution_count": 38,
   "id": "8028dcf9-5dd6-439b-b6c4-bb96486591d9",
   "metadata": {},
   "outputs": [],
   "source": [
    "# https://spark.apache.org/docs/latest/monitoring.html#rest-api\n",
    "# http://localhost:4040/api/v1/applications\n",
    "# http://localhost:4040/api/v1/applications/{app_id}/executors\n",
    "# look for \"totalTasks\"\n",
    "\n",
    "r = requests.get(\"http://localhost:4040/api/v1/applications\")\n",
    "r.raise_for_status()\n",
    "r = r.json()"
   ]
  },
  {
   "cell_type": "code",
   "execution_count": 39,
   "id": "520de413-f7b3-40ae-b228-ac2c7ff5f770",
   "metadata": {},
   "outputs": [
    {
     "data": {
      "text/plain": [
       "'app-20230403133449-0000'"
      ]
     },
     "execution_count": 39,
     "metadata": {},
     "output_type": "execute_result"
    }
   ],
   "source": [
    "# getting the app id\n",
    "app_id = r[0]['id']\n",
    "app_id"
   ]
  },
  {
   "cell_type": "code",
   "execution_count": 40,
   "id": "cc26601b-f473-4280-a1d9-e69b57b37c55",
   "metadata": {},
   "outputs": [
    {
     "name": "stdout",
     "output_type": "stream",
     "text": [
      "[58, 58, 58, 58, 58, 58, 58, 58, 58, 58]\n",
      "[53, 54, 55, 56, 57, 58, 59, 60, 61, 62]\n"
     ]
    }
   ],
   "source": [
    "df = df.repartition(1)\n",
    "df.cache()\n",
    "\n",
    "cTasks1 = []\n",
    "cTasks2 = []\n",
    "\n",
    "for i in range(10):\n",
    "    df.count()\n",
    "    req = requests.get(f\"http://localhost:4040/api/v1/applications/{app_id}/executors\")\n",
    "    req.raise_for_status()\n",
    "    req = req.json()\n",
    "    cTasks1.append(req[1][\"completedTasks\"])\n",
    "    cTasks2.append(req[2][\"completedTasks\"])\n",
    "    \n",
    "print(cTasks2)\n",
    "print(cTasks1)"
   ]
  },
  {
   "cell_type": "code",
   "execution_count": 41,
   "id": "b95b8a53-85a3-4fae-86b8-d23baab65e54",
   "metadata": {},
   "outputs": [
    {
     "data": {
      "text/plain": [
       "Text(0, 0.5, 'Task Count')"
      ]
     },
     "execution_count": 41,
     "metadata": {},
     "output_type": "execute_result"
    },
    {
     "data": {
      "image/png": "[encoded data removed]",
      "text/plain": [
       "<Figure size 640x480 with 1 Axes>"
      ]
     },
     "metadata": {},
     "output_type": "display_data"
    }
   ],
   "source": [
    "plt.plot(cTasks1)\n",
    "plt.plot(cTasks2)\n",
    "plt.xlabel(\"Query Number\")\n",
    "plt.ylabel(\"Task Count\")"
   ]
  },
  {
   "cell_type": "code",
   "execution_count": null,
   "id": "3d256c44-ca6b-48a2-81c6-a906882c1762",
   "metadata": {},
   "outputs": [],
   "source": []
  }
 ],
 "metadata": {
  "kernelspec": {
   "display_name": "Python 3 (ipykernel)",
   "language": "python",
   "name": "python3"
  },
  "language_info": {
   "codemirror_mode": {
    "name": "ipython",
    "version": 3
   },
   "file_extension": ".py",
   "mimetype": "text/x-python",
   "name": "python",
   "nbconvert_exporter": "python",
   "pygments_lexer": "ipython3",
   "version": "3.10.6"
  }
 },
 "nbformat": 4,
 "nbformat_minor": 5
}
